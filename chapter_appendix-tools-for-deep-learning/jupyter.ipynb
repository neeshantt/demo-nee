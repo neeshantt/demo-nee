{
  "cells": [
    {
      "cell_type": "markdown",
      "metadata": {
        "id": "view-in-github",
        "colab_type": "text"
      },
      "source": [
        "<a href=\"https://colab.research.google.com/github/neeshantt/demo-nee/blob/main/chapter_appendix-tools-for-deep-learning/jupyter.ipynb\" target=\"_parent\"><img src=\"https://colab.research.google.com/assets/colab-badge.svg\" alt=\"Open In Colab\"/></a>"
      ]
    },
    {
      "cell_type": "markdown",
      "id": "31d9a4c9",
      "metadata": {
        "origin_pos": 0,
        "id": "31d9a4c9"
      },
      "source": [
        "# Using Jupyter Notebooks\n",
        ":label:`sec_jupyter`\n",
        "\n",
        "\n",
        "This section describes how to edit and run the code\n",
        "in each section of this book\n",
        "using the Jupyter Notebook. Make sure you have\n",
        "installed Jupyter and downloaded the\n",
        "code as described in\n",
        ":ref:`chap_installation`.\n",
        "If you want to know more about Jupyter see the excellent tutorial in\n",
        "their [documentation](https://jupyter.readthedocs.io/en/latest/).\n",
        "\n",
        "\n",
        "## Editing and Running the Code Locally\n",
        "\n",
        "Suppose that the local path of the book's code is `xx/yy/d2l-en/`. Use the shell to change the directory to this path (`cd xx/yy/d2l-en`) and run the command `jupyter notebook`. If your browser does not do this automatically, open http://localhost:8888 and you will see the interface of Jupyter and all the folders containing the code of the book, as shown in :numref:`fig_jupyter00`.\n",
        "\n",
        "![The folders containing the code of this book.](https://github.com/d2l-ai/d2l-en-colab/blob/master/img/jupyter00.png?raw=1)\n",
        ":width:`600px`\n",
        ":label:`fig_jupyter00`\n",
        "\n",
        "\n",
        "You can access the notebook files by clicking on the folder displayed on the webpage.\n",
        "They usually have the suffix \".ipynb\".\n",
        "For the sake of brevity, we create a temporary \"test.ipynb\" file.\n",
        "The content displayed after you click it is\n",
        "shown in :numref:`fig_jupyter01`.\n",
        "This notebook includes a markdown cell and a code cell. The content in the markdown cell includes \"This Is a Title\" and \"This is text.\".\n",
        "The code cell contains two lines of Python code.\n",
        "\n",
        "![Markdown and code cells in the \"text.ipynb\" file.](https://github.com/d2l-ai/d2l-en-colab/blob/master/img/jupyter01.png?raw=1)\n",
        ":width:`600px`\n",
        ":label:`fig_jupyter01`\n",
        "\n",
        "\n",
        "Double click on the markdown cell to enter edit mode.\n",
        "Add a new text string \"Hello world.\" at the end of the cell, as shown in :numref:`fig_jupyter02`.\n",
        "\n",
        "![Edit the markdown cell.](https://github.com/d2l-ai/d2l-en-colab/blob/master/img/jupyter02.png?raw=1)\n",
        ":width:`600px`\n",
        ":label:`fig_jupyter02`\n",
        "\n",
        "\n",
        "As demonstrated in :numref:`fig_jupyter03`,\n",
        "click \"Cell\" $\\rightarrow$ \"Run Cells\" in the menu bar to run the edited cell.\n",
        "\n",
        "![Run the cell.](https://github.com/d2l-ai/d2l-en-colab/blob/master/img/jupyter03.png?raw=1)\n",
        ":width:`600px`\n",
        ":label:`fig_jupyter03`\n",
        "\n",
        "After running, the markdown cell is shown in :numref:`fig_jupyter04`.\n",
        "\n",
        "![The markdown cell after running.](https://github.com/d2l-ai/d2l-en-colab/blob/master/img/jupyter04.png?raw=1)\n",
        ":width:`600px`\n",
        ":label:`fig_jupyter04`\n",
        "\n",
        "\n",
        "Next, click on the code cell. Multiply the elements by 2 after the last line of code, as shown in :numref:`fig_jupyter05`.\n",
        "\n",
        "![Edit the code cell.](https://github.com/d2l-ai/d2l-en-colab/blob/master/img/jupyter05.png?raw=1)\n",
        ":width:`600px`\n",
        ":label:`fig_jupyter05`\n",
        "\n",
        "\n",
        "You can also run the cell with a shortcut (\"Ctrl + Enter\" by default) and obtain the output result from :numref:`fig_jupyter06`.\n",
        "\n",
        "![Run the code cell to obtain the output.](https://github.com/d2l-ai/d2l-en-colab/blob/master/img/jupyter06.png?raw=1)\n",
        ":width:`600px`\n",
        ":label:`fig_jupyter06`\n",
        "\n",
        "\n",
        "When a notebook contains more cells, we can click \"Kernel\" $\\rightarrow$ \"Restart & Run All\" in the menu bar to run all the cells in the entire notebook. By clicking \"Help\" $\\rightarrow$ \"Edit Keyboard Shortcuts\" in the menu bar, you can edit the shortcuts according to your preferences.\n",
        "\n",
        "## Advanced Options\n",
        "\n",
        "Beyond local editing two things are quite important: editing the notebooks in the markdown format and running Jupyter remotely.\n",
        "The latter matters when we want to run the code on a faster server.\n",
        "The former matters since Jupyter's native ipynb format stores a lot of auxiliary data that is\n",
        "irrelevant to the content,\n",
        "mostly related to how and where the code is run.\n",
        "This is confusing for Git, making\n",
        "reviewing contributions very difficult.\n",
        "Fortunately there is an alternative---native editing in the markdown format.\n",
        "\n",
        "### Markdown Files in Jupyter\n",
        "\n",
        "If you wish to contribute to the content of this book, you need to modify the\n",
        "source file (md file, not ipynb file) on GitHub.\n",
        "Using the notedown plugin we\n",
        "can modify notebooks in the md format directly in Jupyter.\n",
        "\n",
        "\n",
        "First, install the notedown plugin, run the Jupyter Notebook, and load the plugin:\n",
        "\n",
        "```\n",
        "pip install d2l-notedown  # You may need to uninstall the original notedown.\n",
        "jupyter notebook --NotebookApp.contents_manager_class='notedown.NotedownContentsManager'\n",
        "```\n",
        "\n",
        "You may also turn on the notedown plugin by default whenever you run the Jupyter Notebook.\n",
        "First, generate a Jupyter Notebook configuration file (if it has already been generated, you can skip this step).\n",
        "\n",
        "```\n",
        "jupyter notebook --generate-config\n",
        "```\n",
        "\n",
        "Then, add the following line to the end of the Jupyter Notebook configuration file (for Linux or macOS, usually in the path `~/.jupyter/jupyter_notebook_config.py`):\n",
        "\n",
        "```\n",
        "c.NotebookApp.contents_manager_class = 'notedown.NotedownContentsManager'\n",
        "```\n",
        "\n",
        "After that, you only need to run the `jupyter notebook` command to turn on the notedown plugin by default.\n",
        "\n",
        "### Running Jupyter Notebooks on a Remote Server\n",
        "\n",
        "Sometimes, you may want to run Jupyter notebooks on a remote server and access it through a browser on your local computer. If Linux or macOS is installed on your local machine (Windows can also support this function through third-party software such as PuTTY), you can use port forwarding:\n",
        "\n",
        "```\n",
        "ssh myserver -L 8888:localhost:8888\n",
        "```\n",
        "\n",
        "The above string `myserver` is the address of the remote server.\n",
        "Then we can use http://localhost:8888 to access the remote server `myserver` that runs Jupyter notebooks. We will detail on how to run Jupyter notebooks on AWS instances\n",
        "later in this appendix.\n",
        "\n",
        "### Timing\n",
        "\n",
        "We can use the `ExecuteTime` plugin to time the execution of each code cell in Jupyter notebooks.\n",
        "Use the following commands to install the plugin:\n",
        "\n",
        "```\n",
        "pip install jupyter_contrib_nbextensions\n",
        "jupyter contrib nbextension install --user\n",
        "jupyter nbextension enable execute_time/ExecuteTime\n",
        "```\n",
        "\n",
        "## Summary\n",
        "\n",
        "* Using the Jupyter Notebook tool, we can edit, run, and contribute to each section of the book.\n",
        "* We can run Jupyter notebooks on remote servers using port forwarding.\n",
        "\n",
        "\n",
        "## Exercises\n",
        "\n",
        "1. Edit and run the code in this book with the Jupyter Notebook on your local machine.\n",
        "1. Edit and run the code in this book with the Jupyter Notebook *remotely* via port forwarding.\n",
        "1. Compare the running time of the operations $\\mathbf{A}^\\top \\mathbf{B}$ and $\\mathbf{A} \\mathbf{B}$ for two square matrices in $\\mathbb{R}^{1024 \\times 1024}$. Which one is faster?\n",
        "\n",
        "\n",
        "[Discussions](https://discuss.d2l.ai/t/421)\n"
      ]
    },
    {
      "cell_type": "code",
      "source": [
        "#12. Write a program to find the volume of the cylinder. Also find the\n",
        "#cost when ,when the cost of 1litre milk is 40Rs.(v=pi*r*r*h)\n",
        "\n",
        "r=int(input(\"enter the radius of cylinder=\"))\n",
        "h=int(input(\"enter the height of cylinder=\"))\n",
        "v=3.14*r*r*h\n",
        "print(\"the volume of cylinder=\",v)\n",
        "liter=float(input(\"enter the liter of milk you want to put in cylinder=\"))\n",
        "cost=liter*40\n",
        "print(\"the cost of milk=\",cost)\n",
        "\n",
        "\n",
        "\n",
        "\n",
        "\n",
        "\n",
        "\n",
        "\n",
        "\n",
        "\n"
      ],
      "metadata": {
        "colab": {
          "base_uri": "https://localhost:8080/"
        },
        "id": "RL-1y17_HFhK",
        "outputId": "56733e09-8faf-46cf-c0b0-d7d18244ddfb"
      },
      "id": "RL-1y17_HFhK",
      "execution_count": 4,
      "outputs": [
        {
          "output_type": "stream",
          "name": "stdout",
          "text": [
            "enter the radius of cylinder=5\n",
            "enter the height of cylinder=10\n",
            "the volume of cylinder= 785.0\n",
            "enter the liter of milk you want to put in cylinder100\n",
            "the cost of milk= 4000.0\n"
          ]
        }
      ]
    },
    {
      "cell_type": "code",
      "source": [
        "#Write a program that will tell whether the given number is divisible\n",
        "#by 3 & 6.\n",
        "\n",
        "num=int(input(\"enter the number=\"))\n",
        "if num%3==0 and num%6==0:\n",
        " print(\"it is divisble\")\n",
        "else:\n",
        " print(\"it is not divisible\")\n",
        "\n"
      ],
      "metadata": {
        "colab": {
          "base_uri": "https://localhost:8080/"
        },
        "id": "trPcxqtjHFkR",
        "outputId": "05d0d7bc-9e51-4b73-a829-9efdc037590c"
      },
      "id": "trPcxqtjHFkR",
      "execution_count": 6,
      "outputs": [
        {
          "output_type": "stream",
          "name": "stdout",
          "text": [
            "enter the number=1200\n",
            "it is divisble\n"
          ]
        }
      ]
    },
    {
      "cell_type": "code",
      "source": [
        "#16. Write a program that will determine weather when the value of\n",
        "#temperature and humidity is provided by the user.\n",
        "#TEMPERATURE(C) HUMIDITY(%)    WEATHER\n",
        "#>= 30              >=90      Hot and Humid\n",
        "#>= 30             < 90         Hot\n",
        "#<30              >= 90       Cool and Humid\n",
        "#<30               <90          Cool\n",
        "\n",
        "\n",
        "temp=float(input(\"enter the temperature=\"))\n",
        "hum=float(input(\"enter the humidity=\"))\n",
        "if temp>=30 and hum>=90:\n",
        "  print(\"Hot and Humidity\")\n",
        "elif temp>=30 and hum<90:\n",
        "  print(\"Hot\")\n",
        "elif temp<30 and hum>=90:\n",
        "   print(\"cool and humid\")\n",
        "elif temp<30 and hum<90:\n",
        "   print(\"cool\")\n",
        "else:\n",
        "    print(\"invalid input\")"
      ],
      "metadata": {
        "colab": {
          "base_uri": "https://localhost:8080/"
        },
        "id": "0sb3aBI5HFmA",
        "outputId": "c2aec563-678f-4a83-bbda-353bf28735fa"
      },
      "id": "0sb3aBI5HFmA",
      "execution_count": 26,
      "outputs": [
        {
          "output_type": "stream",
          "name": "stdout",
          "text": [
            "enter the temperature=89\n",
            "enter the humidity=67\n",
            "Hot\n"
          ]
        }
      ]
    },
    {
      "cell_type": "code",
      "source": [
        "#17. Write a program that will take three digits from the user and add\n",
        "#the square of each digit.\n",
        "num = int(input(\"enter rthe thrre digit=\"))\n",
        "a = num % 10\n",
        "num = num // 10\n",
        "\n",
        "b= num % 10\n",
        "num = num // 10\n",
        "\n",
        "c = num % 10\n",
        "num= num // 10\n",
        "\n",
        "\n",
        "add=a**2 + b**2 + c**2\n",
        "\n",
        "print(\"the sum of all the digit =\",add)\n",
        "\n",
        "\n",
        "\n",
        "\n",
        "\n",
        "\n"
      ],
      "metadata": {
        "colab": {
          "base_uri": "https://localhost:8080/"
        },
        "id": "_k2Cb1DXHFoC",
        "outputId": "03bfd68e-e10e-402c-fe35-d1c68024c906"
      },
      "id": "_k2Cb1DXHFoC",
      "execution_count": 32,
      "outputs": [
        {
          "output_type": "stream",
          "name": "stdout",
          "text": [
            "enter rthe thrre digit=234\n",
            "the sum of all the digit = 29\n"
          ]
        }
      ]
    },
    {
      "cell_type": "code",
      "source": [
        "#18. Write a program that will check whether the number is armstrong\n",
        "#number or not.\n",
        "\n",
        "num = int(input(\"enter the 3 digit number=\"))\n",
        "temp=num\n",
        "a=num%10\n",
        "num=num//10\n",
        "\n",
        "b=num%10\n",
        "num=num//10\n",
        "\n",
        "c=num%10\n",
        "num=num//10\n",
        "\n",
        "armstrong=a**3+b**3+c**3\n",
        "if armstrong==temp:\n",
        "  print(\"the number is armstrong=\",armstrong)\n",
        "else:\n",
        "  print(\"the number is not a armstrong\")\n",
        "\n",
        "\n"
      ],
      "metadata": {
        "colab": {
          "base_uri": "https://localhost:8080/"
        },
        "id": "t_VDc0NFHFtL",
        "outputId": "0944a6a5-43bf-4ef4-eda6-0d90d866b2bd"
      },
      "id": "t_VDc0NFHFtL",
      "execution_count": 37,
      "outputs": [
        {
          "output_type": "stream",
          "name": "stdout",
          "text": [
            "enter the 3 digit number=153\n",
            "the number is armstrong= 153\n"
          ]
        }
      ]
    },
    {
      "cell_type": "code",
      "source": [
        "#19. Write a program that will take user input of (4 digits number) and\n",
        "#check whether the number is narcissist number or not\n",
        "\n",
        "\n",
        "\n",
        "num = int(input(\"enter the 4 digit number=\"))\n",
        "temp=num\n",
        "a=num%10\n",
        "num=num//10\n",
        "\n",
        "b=num%10\n",
        "num=num//10\n",
        "\n",
        "c=num%10\n",
        "num=num//10\n",
        "\n",
        "armstrong=a**4+b**4+c**4\n",
        "if armstrong==temp:\n",
        "  print(\"the number is armstrong=\",armstrong)\n",
        "else:\n",
        "  print(\"the number is not a armstrong\")\n",
        "\n",
        "\n",
        "\n",
        "\n",
        "\n",
        "\n",
        "\n",
        "\n"
      ],
      "metadata": {
        "colab": {
          "base_uri": "https://localhost:8080/"
        },
        "id": "zTy5WO1BHFvL",
        "outputId": "882153f6-5a29-4fb7-8828-7f9f553eb298"
      },
      "id": "zTy5WO1BHFvL",
      "execution_count": 39,
      "outputs": [
        {
          "output_type": "stream",
          "name": "stdout",
          "text": [
            "enter the 4 digit number=7865\n",
            "the number is not a armstrong\n"
          ]
        }
      ]
    },
    {
      "cell_type": "code",
      "source": [
        "#20. Write a program that will give you the in hand salary after\n",
        "#deduction of HRA(10%),DA(5%),PF(3%), and tax(if salary is between\n",
        "#5-10 lakh–10%),(11-20lakh–20%),(20< _ – 30%)(0-1lakh print k).\n",
        "\n",
        "\n",
        "\n",
        "salary=float(input(\"enter the salary you got=\"))\n",
        "hra=salary*0.1\n",
        "da=salary*0.05\n",
        "pf=salary*0.03\n",
        "d_salary=hra+da+pf\n",
        "\n",
        "\n",
        "if salary>=0 and salary<=500000:\n",
        " print(\"no Tax and after HRA , DA,PF final salary=\",salary)\n",
        "\n",
        "elif salary>500000 and salary<=1000000:\n",
        "  tax=salary*0.1\n",
        "\n",
        "\n",
        "elif salary>1000000 and salary<=20000000:\n",
        "  tax=salary*0.2\n",
        "\n",
        "elif salary>2000000:\n",
        "  tax=salary*0.30\n",
        "\n",
        "\n",
        "else:\n",
        "  print(\"invalid input\")\n",
        "\n",
        "\n",
        "  total_deduction = tax + d_salary\n",
        "   in_hand = salary - total_deduction\n",
        "   print(\"the salry in hand =\"in_hand)\n",
        "\n",
        "\n",
        "\n",
        "\n"
      ],
      "metadata": {
        "colab": {
          "base_uri": "https://localhost:8080/"
        },
        "id": "-Gw7nqIjHFx5",
        "outputId": "cc8b2858-bf42-4541-b21b-a59d0dfb106b"
      },
      "id": "-Gw7nqIjHFx5",
      "execution_count": 45,
      "outputs": [
        {
          "output_type": "stream",
          "name": "stdout",
          "text": [
            "enter the salary you got=25000000\n",
            "your salary afte HRA,DA,PF= 20500000.0\n",
            "your salary after 30% Tax= 6150000.0\n"
          ]
        }
      ]
    },
    {
      "cell_type": "code",
      "source": [
        "#20. Write a program that will give you the in hand salary after\n",
        "#deduction of HRA(10%),DA(5%),PF(3%), and tax(if salary is between\n",
        "#5-10 lakh–10%),(11-20lakh–20%),(20< _ – 30%)(0-1lakh print k).\n",
        "\n",
        "\n",
        "\n",
        "salary=float(input(\"enter the salary you got=\"))\n",
        "hra=salary*0.1\n",
        "da=salary*0.05\n",
        "pf=salary*0.03\n",
        "d_salary=hra+da+pf\n",
        "\n",
        "\n",
        "if salary>=0 and salary<=500000:\n",
        " print(\"no Tax and after HRA , DA,PF final salary=\",salary)\n",
        "\n",
        "elif salary>500000 and salary<=1000000:\n",
        "  tax=salary*0.1\n",
        "\n",
        "\n",
        "elif salary>1000000 and salary<=20000000:\n",
        "  tax=salary*0.2\n",
        "\n",
        "elif salary>2000000:\n",
        "  tax=salary*0.30\n",
        "\n",
        "\n",
        "total_deduction = tax + d_salary\n",
        "in_hand = salary - total_deduction\n",
        "print(\"the salry in hand =\",in_hand)\n"
      ],
      "metadata": {
        "id": "pKq10JFsh3V2",
        "outputId": "c50e6417-c640-4173-c716-ad155b5c4bf1",
        "colab": {
          "base_uri": "https://localhost:8080/"
        }
      },
      "id": "pKq10JFsh3V2",
      "execution_count": 50,
      "outputs": [
        {
          "output_type": "stream",
          "name": "stdout",
          "text": [
            "enter the salary you got=25000000\n",
            "the salry in hand = 13000000.0\n"
          ]
        }
      ]
    },
    {
      "cell_type": "code",
      "source": [
        "#22.Write a program that will tell the number of dogs and chicken are\n",
        "#there when the user will provide the value of total heads and legs.\n",
        "\n",
        "\n",
        "\n",
        "\n",
        "\n",
        "\n",
        "\n",
        "\n",
        "\n",
        "\n",
        "\n",
        "\n"
      ],
      "metadata": {
        "id": "EnvjAGDrh3Ys"
      },
      "id": "EnvjAGDrh3Ys",
      "execution_count": null,
      "outputs": []
    },
    {
      "cell_type": "code",
      "source": [],
      "metadata": {
        "id": "RBwHMPZAh3bb"
      },
      "id": "RBwHMPZAh3bb",
      "execution_count": null,
      "outputs": []
    },
    {
      "cell_type": "code",
      "source": [],
      "metadata": {
        "id": "isR0LY-bh3d6"
      },
      "id": "isR0LY-bh3d6",
      "execution_count": null,
      "outputs": []
    },
    {
      "cell_type": "code",
      "source": [],
      "metadata": {
        "id": "Z2hcqmagh3gl"
      },
      "id": "Z2hcqmagh3gl",
      "execution_count": null,
      "outputs": []
    }
  ],
  "metadata": {
    "kernelspec": {
      "display_name": "Python 3",
      "name": "python3"
    },
    "language_info": {
      "name": "python"
    },
    "required_libs": [],
    "colab": {
      "provenance": [],
      "include_colab_link": true
    }
  },
  "nbformat": 4,
  "nbformat_minor": 5
}